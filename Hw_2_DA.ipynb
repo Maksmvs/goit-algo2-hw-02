{
  "nbformat": 4,
  "nbformat_minor": 0,
  "metadata": {
    "colab": {
      "provenance": []
    },
    "kernelspec": {
      "name": "python3",
      "display_name": "Python 3"
    },
    "language_info": {
      "name": "python"
    }
  },
  "cells": [
    {
      "cell_type": "markdown",
      "source": [
        "\n",
        "Завдання 1. Оптимізація черги 3D-принтера в університетській лабораторії"
      ],
      "metadata": {
        "id": "y5r8s_1lHDsn"
      }
    },
    {
      "cell_type": "code",
      "execution_count": 1,
      "metadata": {
        "colab": {
          "base_uri": "https://localhost:8080/"
        },
        "id": "qXGiQ9IAG4xs",
        "outputId": "d9b9bd63-ecce-4904-ac13-20ef2ad4cf87"
      },
      "outputs": [
        {
          "output_type": "stream",
          "name": "stdout",
          "text": [
            "Тест 1: {'print_order': ['M3', 'M1', 'M2'], 'total_time': 270}\n",
            "Тест 2: {'print_order': ['M1', 'M2', 'M3'], 'total_time': 270}\n",
            "Тест 3: {'print_order': ['M1', 'M3', 'M2'], 'total_time': 450}\n"
          ]
        }
      ],
      "source": [
        "def optimize_printing(print_jobs, printer_constraints):\n",
        "\n",
        "    sorted_jobs = sorted(print_jobs, key=lambda x: (x[\"priority\"], x[\"volume\"]))\n",
        "    total_time = 0\n",
        "    print_order = []\n",
        "\n",
        "    while sorted_jobs:\n",
        "        batch_volume = 0\n",
        "        batch_count = 0\n",
        "        batch_jobs = []\n",
        "\n",
        "        for job in sorted_jobs:\n",
        "            if (batch_volume + job[\"volume\"] <= printer_constraints[\"max_volume\"] and\n",
        "                    batch_count + 1 <= printer_constraints[\"max_items\"]):\n",
        "                batch_jobs.append(job)\n",
        "                batch_volume += job[\"volume\"]\n",
        "                batch_count += 1\n",
        "\n",
        "        for job in batch_jobs:\n",
        "            print_order.append(job[\"id\"])\n",
        "            total_time += job[\"print_time\"]\n",
        "            sorted_jobs.remove(job)\n",
        "\n",
        "    return {\"print_order\": print_order, \"total_time\": total_time}\n",
        "\n",
        "def run_tests():\n",
        "    print_jobs = [\n",
        "        {\"id\": \"M1\", \"volume\": 30, \"priority\": 1, \"print_time\": 90},\n",
        "        {\"id\": \"M2\", \"volume\": 50, \"priority\": 1, \"print_time\": 120},\n",
        "        {\"id\": \"M3\", \"volume\": 20, \"priority\": 1, \"print_time\": 60},\n",
        "    ]\n",
        "    printer_constraints = {\"max_volume\": 100, \"max_items\": 2}\n",
        "    result = optimize_printing(print_jobs, printer_constraints)\n",
        "    print(\"Тест 1:\", result)\n",
        "\n",
        "    print_jobs = [\n",
        "        {\"id\": \"M1\", \"volume\": 50, \"priority\": 1, \"print_time\": 120},\n",
        "        {\"id\": \"M2\", \"volume\": 30, \"priority\": 2, \"print_time\": 60},\n",
        "        {\"id\": \"M3\", \"volume\": 70, \"priority\": 3, \"print_time\": 90},\n",
        "    ]\n",
        "    result = optimize_printing(print_jobs, printer_constraints)\n",
        "    print(\"Тест 2:\", result)\n",
        "\n",
        "    print_jobs = [\n",
        "        {\"id\": \"M1\", \"volume\": 70, \"priority\": 1, \"print_time\": 180},\n",
        "        {\"id\": \"M2\", \"volume\": 50, \"priority\": 2, \"print_time\": 150},\n",
        "        {\"id\": \"M3\", \"volume\": 30, \"priority\": 3, \"print_time\": 120},\n",
        "    ]\n",
        "    result = optimize_printing(print_jobs, printer_constraints)\n",
        "    print(\"Тест 3:\", result)\n",
        "\n",
        "run_tests()"
      ]
    },
    {
      "cell_type": "markdown",
      "source": [
        "Завдання 2. Оптимальне розрізання стрижня для максимального прибутку (Rod Cutting Problem)"
      ],
      "metadata": {
        "id": "PHmRDICIHUHr"
      }
    },
    {
      "cell_type": "code",
      "source": [
        "from typing import List, Dict\n",
        "\n",
        "def rod_cutting_memo(length: int, prices: List[int]) -> Dict:\n",
        "    def helper(n, memo):\n",
        "        if n == 0:\n",
        "            return 0, []\n",
        "        if n in memo:\n",
        "            return memo[n]\n",
        "\n",
        "        max_profit = 0\n",
        "        cuts = []\n",
        "        for i in range(1, n + 1):\n",
        "            if i <= len(prices):\n",
        "                current_profit, current_cuts = helper(n - i, memo)\n",
        "                current_profit += prices[i - 1]\n",
        "                if current_profit > max_profit:\n",
        "                    max_profit = current_profit\n",
        "                    cuts = current_cuts + [i]\n",
        "\n",
        "        memo[n] = (max_profit, cuts)\n",
        "        return memo[n]\n",
        "\n",
        "    memo = {}\n",
        "    max_profit, cuts = helper(length, memo)\n",
        "    return {\n",
        "        \"max_profit\": max_profit,\n",
        "        \"cuts\": cuts,\n",
        "        \"number_of_cuts\": len(cuts) - 1\n",
        "    }\n",
        "\n",
        "def rod_cutting_table(length: int, prices: List[int]) -> Dict:\n",
        "    dp = [0] * (length + 1)\n",
        "    cuts = [[] for _ in range(length + 1)]\n",
        "\n",
        "    for i in range(1, length + 1):\n",
        "        for j in range(1, i + 1):\n",
        "            if j <= len(prices):\n",
        "                if dp[i] < dp[i - j] + prices[j - 1]:\n",
        "                    dp[i] = dp[i - j] + prices[j - 1]\n",
        "                    cuts[i] = cuts[i - j] + [j]\n",
        "\n",
        "    return {\n",
        "        \"max_profit\": dp[length],\n",
        "        \"cuts\": cuts[length],\n",
        "        \"number_of_cuts\": len(cuts[length]) - 1\n",
        "    }\n",
        "\n",
        "def run_tests():\n",
        "    test_cases = [\n",
        "        {\n",
        "            \"length\": 5,\n",
        "            \"prices\": [2, 5, 7, 8, 10],\n",
        "            \"name\": \"Базовий випадок\"\n",
        "        },\n",
        "        {\n",
        "            \"length\": 3,\n",
        "            \"prices\": [1, 3, 8],\n",
        "            \"name\": \"Оптимально не різати\"\n",
        "        },\n",
        "        {\n",
        "            \"length\": 4,\n",
        "            \"prices\": [3, 5, 6, 7],\n",
        "            \"name\": \"Рівномірні розрізи\"\n",
        "        }\n",
        "    ]\n",
        "\n",
        "    for test in test_cases:\n",
        "        print(f\"\\nТест: {test['name']}\")\n",
        "        print(f\"Довжина стрижня: {test['length']}\")\n",
        "        print(f\"Ціни: {test['prices']}\")\n",
        "\n",
        "        memo_result = rod_cutting_memo(test['length'], test['prices'])\n",
        "        print(\"\\nРезультат мемоізації:\")\n",
        "        print(f\"Максимальний прибуток: {memo_result['max_profit']}\")\n",
        "        print(f\"Розрізи: {memo_result['cuts']}\")\n",
        "        print(f\"Кількість розрізів: {memo_result['number_of_cuts']}\")\n",
        "\n",
        "        table_result = rod_cutting_table(test['length'], test['prices'])\n",
        "        print(\"\\nРезультат табуляції:\")\n",
        "        print(f\"Максимальний прибуток: {table_result['max_profit']}\")\n",
        "        print(f\"Розрізи: {table_result['cuts']}\")\n",
        "        print(f\"Кількість розрізів: {table_result['number_of_cuts']}\")\n",
        "\n",
        "if __name__ == \"__main__\":\n",
        "    run_tests()"
      ],
      "metadata": {
        "colab": {
          "base_uri": "https://localhost:8080/"
        },
        "id": "gNMLdjG0HXir",
        "outputId": "d32b7077-7dd9-4f53-97af-36110069e607"
      },
      "execution_count": 2,
      "outputs": [
        {
          "output_type": "stream",
          "name": "stdout",
          "text": [
            "\n",
            "Тест: Базовий випадок\n",
            "Довжина стрижня: 5\n",
            "Ціни: [2, 5, 7, 8, 10]\n",
            "\n",
            "Результат мемоізації:\n",
            "Максимальний прибуток: 12\n",
            "Розрізи: [2, 2, 1]\n",
            "Кількість розрізів: 2\n",
            "\n",
            "Результат табуляції:\n",
            "Максимальний прибуток: 12\n",
            "Розрізи: [2, 2, 1]\n",
            "Кількість розрізів: 2\n",
            "\n",
            "Тест: Оптимально не різати\n",
            "Довжина стрижня: 3\n",
            "Ціни: [1, 3, 8]\n",
            "\n",
            "Результат мемоізації:\n",
            "Максимальний прибуток: 8\n",
            "Розрізи: [3]\n",
            "Кількість розрізів: 0\n",
            "\n",
            "Результат табуляції:\n",
            "Максимальний прибуток: 8\n",
            "Розрізи: [3]\n",
            "Кількість розрізів: 0\n",
            "\n",
            "Тест: Рівномірні розрізи\n",
            "Довжина стрижня: 4\n",
            "Ціни: [3, 5, 6, 7]\n",
            "\n",
            "Результат мемоізації:\n",
            "Максимальний прибуток: 12\n",
            "Розрізи: [1, 1, 1, 1]\n",
            "Кількість розрізів: 3\n",
            "\n",
            "Результат табуляції:\n",
            "Максимальний прибуток: 12\n",
            "Розрізи: [1, 1, 1, 1]\n",
            "Кількість розрізів: 3\n"
          ]
        }
      ]
    }
  ]
}